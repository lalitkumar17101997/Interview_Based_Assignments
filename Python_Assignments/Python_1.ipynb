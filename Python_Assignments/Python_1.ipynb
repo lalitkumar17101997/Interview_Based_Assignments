{
 "cells": [
  {
   "cell_type": "markdown",
   "id": "a5b38f13",
   "metadata": {},
   "source": [
    "## **Question 1:**\n",
    "**Write a program that takes a string as input, and counts the frequency of each word in the string, there might\n",
    "be repeated characters in the string. Your task is to find the highest frequency and returns the length of the\n",
    "highest-frequency word.\n",
    "Note - You have to write at least 2 additional test cases in which your program will run successfully and provide\n",
    "an explanation for the same.\n",
    "Example input - string = “write write write all the number from from from 1 to 100”\n",
    "Example output - 5\n",
    "Explanation - From the given string we can note that the most frequent words are “write” and “from” and\n",
    "the maximum value of both the values is “write” and its corresponding length is 5?**"
   ]
  },
  {
   "cell_type": "code",
   "execution_count": 8,
   "id": "a6d31e6c",
   "metadata": {},
   "outputs": [
    {
     "name": "stdout",
     "output_type": "stream",
     "text": [
      "{'write': 3, 'all': 1, 'the': 1, 'number': 1, 'from': 3, '1': 1, 'to': 1, '100': 1}\n"
     ]
    },
    {
     "data": {
      "text/plain": [
       "5"
      ]
     },
     "execution_count": 8,
     "metadata": {},
     "output_type": "execute_result"
    }
   ],
   "source": [
    "my_string_line = \"write write write all the number from from from 1 to 100\"\n",
    "\n",
    "def frequent_words(string):\n",
    "    \n",
    "    list_of_substrings_method = string.split()\n",
    "    checked_words = {}\n",
    "    most_frequent_occur = 0\n",
    "    \n",
    "    for i in list_of_substrings_method:\n",
    "        if i in checked_words:\n",
    "            continue\n",
    "        else:\n",
    "            occur = list_of_substrings_method.count(i)\n",
    "            checked_words[i] = occur\n",
    "    most_frequent_occur = max(checked_words.values())\n",
    "    \n",
    "    print(checked_words)\n",
    "    list_most_frequent_occurred_words = []\n",
    "    for p, v in checked_words.items():\n",
    "        if v == most_frequent_occur:\n",
    "            list_most_frequent_occurred_words.append(p)\n",
    "            \n",
    "    max_len = 0\n",
    "    for i in list_most_frequent_occurred_words:\n",
    "        if len(i) > max_len:\n",
    "            max_len = len(i)\n",
    "    return(max_len)\n",
    "frequent_words(my_string_line)"
   ]
  },
  {
   "cell_type": "code",
   "execution_count": 6,
   "id": "54325ed2",
   "metadata": {},
   "outputs": [
    {
     "name": "stdout",
     "output_type": "stream",
     "text": [
      "{'I': 1, 'am': 1, 'not': 2, 'able': 1, 'to': 1, 'read': 1, 'it': 1}\n"
     ]
    },
    {
     "data": {
      "text/plain": [
       "3"
      ]
     },
     "execution_count": 6,
     "metadata": {},
     "output_type": "execute_result"
    }
   ],
   "source": [
    "frequent_words(\"I am not not able to read it\")"
   ]
  },
  {
   "cell_type": "code",
   "execution_count": 9,
   "id": "1b505fef",
   "metadata": {},
   "outputs": [
    {
     "name": "stdout",
     "output_type": "stream",
     "text": [
      "{'I': 3, 'will': 1, 'read': 1, 'it': 1, 'tomorrow': 1}\n"
     ]
    },
    {
     "data": {
      "text/plain": [
       "1"
      ]
     },
     "execution_count": 9,
     "metadata": {},
     "output_type": "execute_result"
    }
   ],
   "source": [
    "frequent_words(\"I I I will read it tomorrow\")"
   ]
  },
  {
   "cell_type": "code",
   "execution_count": null,
   "id": "baf27f43",
   "metadata": {},
   "outputs": [],
   "source": []
  }
 ],
 "metadata": {
  "kernelspec": {
   "display_name": "Python 3 (ipykernel)",
   "language": "python",
   "name": "python3"
  },
  "language_info": {
   "codemirror_mode": {
    "name": "ipython",
    "version": 3
   },
   "file_extension": ".py",
   "mimetype": "text/x-python",
   "name": "python",
   "nbconvert_exporter": "python",
   "pygments_lexer": "ipython3",
   "version": "3.9.12"
  }
 },
 "nbformat": 4,
 "nbformat_minor": 5
}
