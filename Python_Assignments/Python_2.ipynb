{
 "cells": [
  {
   "cell_type": "code",
   "execution_count": 2,
   "id": "9147c700",
   "metadata": {},
   "outputs": [
    {
     "name": "stdout",
     "output_type": "stream",
     "text": [
      "{'a': 2, 'b': 2, 'c': 2}\n"
     ]
    },
    {
     "data": {
      "text/plain": [
       "'YES'"
      ]
     },
     "execution_count": 2,
     "metadata": {},
     "output_type": "execute_result"
    }
   ],
   "source": [
    "my_string_line = \"aabbcc\" \n",
    "\n",
    "\n",
    "def string_checker_method(string):\n",
    "\n",
    "    list_of_strings_line = []\n",
    "    checked_words_line = {}\n",
    "\n",
    "    for i in string:\n",
    "        list_of_strings_line.append(i)\n",
    "    for i in list_of_strings_line:\n",
    "        if i in checked_words_line:\n",
    "            continue\n",
    "        else:\n",
    "            occur = list_of_strings_line.count(i)\n",
    "            checked_words_line[i]= occur\n",
    "    print(checked_words_line) \n",
    "\n",
    "\n",
    "    for v in checked_words_line.values():\n",
    "        for v1 in checked_words_line.values():\n",
    "            if v == v1:\n",
    "                continue\n",
    "            else:\n",
    "                return \"NO\"\n",
    "    return \"YES\"\n",
    "\n",
    "\n",
    "string_checker_method(my_string_line)"
   ]
  },
  {
   "cell_type": "markdown",
   "id": "4d2af87b",
   "metadata": {},
   "source": [
    "### another two test cases:\n"
   ]
  },
  {
   "cell_type": "code",
   "execution_count": 4,
   "id": "444fceb6",
   "metadata": {},
   "outputs": [
    {
     "name": "stdout",
     "output_type": "stream",
     "text": [
      "{'O': 1, 'k': 1, 'a': 1, 'y': 1}\n"
     ]
    },
    {
     "data": {
      "text/plain": [
       "'YES'"
      ]
     },
     "execution_count": 4,
     "metadata": {},
     "output_type": "execute_result"
    }
   ],
   "source": [
    "string_checker_method(\"Okay\")"
   ]
  },
  {
   "cell_type": "code",
   "execution_count": 5,
   "id": "1f70ece5",
   "metadata": {},
   "outputs": [
    {
     "name": "stdout",
     "output_type": "stream",
     "text": [
      "{'n': 1, 'o': 2, 'b': 1}\n"
     ]
    },
    {
     "data": {
      "text/plain": [
       "'NO'"
      ]
     },
     "execution_count": 5,
     "metadata": {},
     "output_type": "execute_result"
    }
   ],
   "source": [
    "string_checker_method(\"noob\")"
   ]
  }
 ],
 "metadata": {
  "kernelspec": {
   "display_name": "Python 3 (ipykernel)",
   "language": "python",
   "name": "python3"
  },
  "language_info": {
   "codemirror_mode": {
    "name": "ipython",
    "version": 3
   },
   "file_extension": ".py",
   "mimetype": "text/x-python",
   "name": "python",
   "nbconvert_exporter": "python",
   "pygments_lexer": "ipython3",
   "version": "3.9.12"
  }
 },
 "nbformat": 4,
 "nbformat_minor": 5
}
