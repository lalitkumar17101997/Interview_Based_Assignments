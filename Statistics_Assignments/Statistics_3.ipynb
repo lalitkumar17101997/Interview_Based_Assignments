{
 "cells": [
  {
   "cell_type": "markdown",
   "id": "9d9f721e",
   "metadata": {},
   "source": [
    "**Q-3.** Consider the ‘Blood Pressure Before’ and ‘Blood Pressure After’ columns from the\n",
    "data and calculate the following\n",
    "\n",
    "https://drive.google.com/file/d/1mCjtYHiX--mMUjicuaP2gH3k-SnFxt8Y/view?usp=share_\n",
    "a. Measure the dispersion in both and interpret the results.\n",
    "b. Calculate mean and 5% confidence interval and plot it in a graph\n",
    "c. Calculate the Mean absolute deviation and Standard deviation and interpret\n",
    "the results.\n",
    "d. Calculate the correlation coefficient and check the significance of it at 1% level\n",
    "of significance."
   ]
  },
  {
   "cell_type": "code",
   "execution_count": 8,
   "id": "6825b744",
   "metadata": {},
   "outputs": [
    {
     "data": {
      "text/html": [
       "<div>\n",
       "<style scoped>\n",
       "    .dataframe tbody tr th:only-of-type {\n",
       "        vertical-align: middle;\n",
       "    }\n",
       "\n",
       "    .dataframe tbody tr th {\n",
       "        vertical-align: top;\n",
       "    }\n",
       "\n",
       "    .dataframe thead th {\n",
       "        text-align: right;\n",
       "    }\n",
       "</style>\n",
       "<table border=\"1\" class=\"dataframe\">\n",
       "  <thead>\n",
       "    <tr style=\"text-align: right;\">\n",
       "      <th></th>\n",
       "      <th>Patient ID</th>\n",
       "      <th>Blood Pressure Before (mmHg)</th>\n",
       "      <th>Blood Pressure After (mmHg)</th>\n",
       "    </tr>\n",
       "  </thead>\n",
       "  <tbody>\n",
       "    <tr>\n",
       "      <th>0</th>\n",
       "      <td>1</td>\n",
       "      <td>130</td>\n",
       "      <td>120</td>\n",
       "    </tr>\n",
       "    <tr>\n",
       "      <th>1</th>\n",
       "      <td>2</td>\n",
       "      <td>142</td>\n",
       "      <td>135</td>\n",
       "    </tr>\n",
       "    <tr>\n",
       "      <th>2</th>\n",
       "      <td>3</td>\n",
       "      <td>120</td>\n",
       "      <td>118</td>\n",
       "    </tr>\n",
       "    <tr>\n",
       "      <th>3</th>\n",
       "      <td>4</td>\n",
       "      <td>135</td>\n",
       "      <td>127</td>\n",
       "    </tr>\n",
       "    <tr>\n",
       "      <th>4</th>\n",
       "      <td>5</td>\n",
       "      <td>148</td>\n",
       "      <td>140</td>\n",
       "    </tr>\n",
       "    <tr>\n",
       "      <th>...</th>\n",
       "      <td>...</td>\n",
       "      <td>...</td>\n",
       "      <td>...</td>\n",
       "    </tr>\n",
       "    <tr>\n",
       "      <th>95</th>\n",
       "      <td>96</td>\n",
       "      <td>136</td>\n",
       "      <td>129</td>\n",
       "    </tr>\n",
       "    <tr>\n",
       "      <th>96</th>\n",
       "      <td>97</td>\n",
       "      <td>143</td>\n",
       "      <td>137</td>\n",
       "    </tr>\n",
       "    <tr>\n",
       "      <th>97</th>\n",
       "      <td>98</td>\n",
       "      <td>127</td>\n",
       "      <td>123</td>\n",
       "    </tr>\n",
       "    <tr>\n",
       "      <th>98</th>\n",
       "      <td>99</td>\n",
       "      <td>139</td>\n",
       "      <td>135</td>\n",
       "    </tr>\n",
       "    <tr>\n",
       "      <th>99</th>\n",
       "      <td>100</td>\n",
       "      <td>135</td>\n",
       "      <td>130</td>\n",
       "    </tr>\n",
       "  </tbody>\n",
       "</table>\n",
       "<p>100 rows × 3 columns</p>\n",
       "</div>"
      ],
      "text/plain": [
       "    Patient ID   Blood Pressure Before (mmHg)   Blood Pressure After (mmHg)\n",
       "0            1                            130                           120\n",
       "1            2                            142                           135\n",
       "2            3                            120                           118\n",
       "3            4                            135                           127\n",
       "4            5                            148                           140\n",
       "..         ...                            ...                           ...\n",
       "95          96                            136                           129\n",
       "96          97                            143                           137\n",
       "97          98                            127                           123\n",
       "98          99                            139                           135\n",
       "99         100                            135                           130\n",
       "\n",
       "[100 rows x 3 columns]"
      ]
     },
     "execution_count": 8,
     "metadata": {},
     "output_type": "execute_result"
    }
   ],
   "source": [
    "# link = 'https://drive.google.com/file/d/1mCjtYHiX--mMUjicuaP2gH3k-SnFxt8Y/view?usp=share_'\n",
    "\n",
    "link_to_data = 'c:data.csv'\n",
    "\n",
    "import pandas as pd\n",
    "\n",
    "df = pd.read_csv(link_to_data)\n",
    "\n",
    "df"
   ]
  },
  {
   "cell_type": "markdown",
   "id": "9034c223",
   "metadata": {},
   "source": [
    "# Task: a. Measure the dispersion in both and interpret the results."
   ]
  },
  {
   "cell_type": "code",
   "execution_count": 9,
   "id": "31d7f572",
   "metadata": {},
   "outputs": [
    {
     "name": "stdout",
     "output_type": "stream",
     "text": [
      "<class 'pandas.core.frame.DataFrame'>\n",
      "RangeIndex: 100 entries, 0 to 99\n",
      "Data columns (total 3 columns):\n",
      " #   Column                         Non-Null Count  Dtype\n",
      "---  ------                         --------------  -----\n",
      " 0   Patient ID                     100 non-null    int64\n",
      " 1    Blood Pressure Before (mmHg)  100 non-null    int64\n",
      " 2    Blood Pressure After (mmHg)   100 non-null    int64\n",
      "dtypes: int64(3)\n",
      "memory usage: 2.5 KB\n"
     ]
    }
   ],
   "source": [
    "df.info()"
   ]
  },
  {
   "cell_type": "code",
   "execution_count": 10,
   "id": "8e5b2a40",
   "metadata": {},
   "outputs": [
    {
     "data": {
      "text/html": [
       "<div>\n",
       "<style scoped>\n",
       "    .dataframe tbody tr th:only-of-type {\n",
       "        vertical-align: middle;\n",
       "    }\n",
       "\n",
       "    .dataframe tbody tr th {\n",
       "        vertical-align: top;\n",
       "    }\n",
       "\n",
       "    .dataframe thead th {\n",
       "        text-align: right;\n",
       "    }\n",
       "</style>\n",
       "<table border=\"1\" class=\"dataframe\">\n",
       "  <thead>\n",
       "    <tr style=\"text-align: right;\">\n",
       "      <th></th>\n",
       "      <th>Patient ID</th>\n",
       "      <th>Blood Pressure Before (mmHg)</th>\n",
       "      <th>Blood Pressure After (mmHg)</th>\n",
       "    </tr>\n",
       "  </thead>\n",
       "  <tbody>\n",
       "    <tr>\n",
       "      <th>count</th>\n",
       "      <td>100.000000</td>\n",
       "      <td>100.000000</td>\n",
       "      <td>100.000000</td>\n",
       "    </tr>\n",
       "    <tr>\n",
       "      <th>mean</th>\n",
       "      <td>50.500000</td>\n",
       "      <td>133.910000</td>\n",
       "      <td>128.360000</td>\n",
       "    </tr>\n",
       "    <tr>\n",
       "      <th>std</th>\n",
       "      <td>29.011492</td>\n",
       "      <td>6.598278</td>\n",
       "      <td>6.888022</td>\n",
       "    </tr>\n",
       "    <tr>\n",
       "      <th>min</th>\n",
       "      <td>1.000000</td>\n",
       "      <td>120.000000</td>\n",
       "      <td>118.000000</td>\n",
       "    </tr>\n",
       "    <tr>\n",
       "      <th>25%</th>\n",
       "      <td>25.750000</td>\n",
       "      <td>128.000000</td>\n",
       "      <td>123.000000</td>\n",
       "    </tr>\n",
       "    <tr>\n",
       "      <th>50%</th>\n",
       "      <td>50.500000</td>\n",
       "      <td>135.000000</td>\n",
       "      <td>128.000000</td>\n",
       "    </tr>\n",
       "    <tr>\n",
       "      <th>75%</th>\n",
       "      <td>75.250000</td>\n",
       "      <td>139.250000</td>\n",
       "      <td>135.000000</td>\n",
       "    </tr>\n",
       "    <tr>\n",
       "      <th>max</th>\n",
       "      <td>100.000000</td>\n",
       "      <td>148.000000</td>\n",
       "      <td>141.000000</td>\n",
       "    </tr>\n",
       "  </tbody>\n",
       "</table>\n",
       "</div>"
      ],
      "text/plain": [
       "       Patient ID   Blood Pressure Before (mmHg)   Blood Pressure After (mmHg)\n",
       "count  100.000000                     100.000000                    100.000000\n",
       "mean    50.500000                     133.910000                    128.360000\n",
       "std     29.011492                       6.598278                      6.888022\n",
       "min      1.000000                     120.000000                    118.000000\n",
       "25%     25.750000                     128.000000                    123.000000\n",
       "50%     50.500000                     135.000000                    128.000000\n",
       "75%     75.250000                     139.250000                    135.000000\n",
       "max    100.000000                     148.000000                    141.000000"
      ]
     },
     "execution_count": 10,
     "metadata": {},
     "output_type": "execute_result"
    }
   ],
   "source": [
    "df.describe()"
   ]
  },
  {
   "cell_type": "code",
   "execution_count": 11,
   "id": "c67d3a6a",
   "metadata": {},
   "outputs": [],
   "source": [
    "#Standard devision before - 6.598278\n",
    "#standard devision after - 6.888022"
   ]
  },
  {
   "cell_type": "code",
   "execution_count": 12,
   "id": "9224ea7d",
   "metadata": {},
   "outputs": [
    {
     "data": {
      "text/plain": [
       "<AxesSubplot:>"
      ]
     },
     "execution_count": 12,
     "metadata": {},
     "output_type": "execute_result"
    },
    {
     "data": {
      "image/png": "[encoded data removed]",
      "text/plain": [
       "<Figure size 432x288 with 1 Axes>"
      ]
     },
     "metadata": {
      "needs_background": "light"
     },
     "output_type": "display_data"
    }
   ],
   "source": [
    "import seaborn as sns\n",
    "\n",
    "df[' Blood Pressure After (mmHg)'].plot(kind='box')"
   ]
  },
  {
   "cell_type": "code",
   "execution_count": 13,
   "id": "8ad8d313",
   "metadata": {},
   "outputs": [
    {
     "data": {
      "text/plain": [
       "<AxesSubplot:>"
      ]
     },
     "execution_count": 13,
     "metadata": {},
     "output_type": "execute_result"
    },
    {
     "data": {
      "image/png": "[encoded data removed]",
      "text/plain": [
       "<Figure size 432x288 with 1 Axes>"
      ]
     },
     "metadata": {
      "needs_background": "light"
     },
     "output_type": "display_data"
    }
   ],
   "source": [
    "df[' Blood Pressure After (mmHg)'].plot(kind='box')"
   ]
  },
  {
   "cell_type": "code",
   "execution_count": 14,
   "id": "c7adf0f7",
   "metadata": {},
   "outputs": [],
   "source": [
    "# Data does not have any outliers either."
   ]
  },
  {
   "cell_type": "markdown",
   "id": "24a9d3c3",
   "metadata": {},
   "source": [
    "# Taks b. Calculate mean and 5% confidence interval and plot it in a graph"
   ]
  },
  {
   "cell_type": "code",
   "execution_count": 16,
   "id": "80057577",
   "metadata": {},
   "outputs": [
    {
     "name": "stdout",
     "output_type": "stream",
     "text": [
      "mean before:  133.91 std_dev 6.598278012275075\n",
      "Z-value: 1.959963984540054\n",
      "135.20323872640415 132.61676127359584\n"
     ]
    }
   ],
   "source": [
    "import math\n",
    "from scipy.stats import norm\n",
    "\n",
    "mean_before = df[' Blood Pressure Before (mmHg)'].mean()\n",
    "std_dev_before = df[' Blood Pressure Before (mmHg)'].std()\n",
    "print(\"mean before: \", mean_before, \"std_dev\", std_dev_before)\n",
    "\n",
    "margine_of_error = std_dev_before/ math.sqrt(len(df))\n",
    "\n",
    "\n",
    "confidence_level = 0.95  # 95% confidence level (2.5% in each tail)\n",
    "alpha = 1 - confidence_level\n",
    "# Calculate the z-value for the desired confidence level\n",
    "z_value = norm.ppf(1 - (alpha) / 2)\n",
    "\n",
    "print(\"Z-value:\", z_value)\n",
    "\n",
    "\n",
    "upper_bound_before = mean_before + (z_value*margine_of_error)\n",
    "lower_bound_before = mean_before - (z_value*margine_of_error)\n",
    "\n",
    "print(upper_bound_before, lower_bound_before)"
   ]
  },
  {
   "cell_type": "code",
   "execution_count": 17,
   "id": "5a62d4e5",
   "metadata": {},
   "outputs": [
    {
     "data": {
      "image/png": "[encoded data removed]",
      "text/plain": [
       "<Figure size 576x432 with 1 Axes>"
      ]
     },
     "metadata": {
      "needs_background": "light"
     },
     "output_type": "display_data"
    }
   ],
   "source": [
    "import numpy as np\n",
    "import matplotlib.pyplot as plt\n",
    "from scipy.stats import norm\n",
    "\n",
    "# Example data\n",
    "data = df[' Blood Pressure Before (mmHg)']  # Column data\n",
    "mean = mean_before # Mean value\n",
    "lower_bound = lower_bound_before # Lower bound value\n",
    "upper_bound = upper_bound_before  # Upper bound value\n",
    "\n",
    "# Estimate parameters of normal distribution\n",
    "mu, std = norm.fit(data)\n",
    "\n",
    "# Generate x-values for PDF plot\n",
    "x = np.linspace(min(data), max(data), 100)\n",
    "\n",
    "# Calculate PDF values using estimated parameters\n",
    "pdf = norm.pdf(x, mu, std)\n",
    "\n",
    "# Plot the graph\n",
    "plt.figure(figsize=(8, 6))\n",
    "plt.plot(x, pdf, label='Probability Density Function')\n",
    "plt.axvline(x=mean, color='r', linestyle='--', label='Mean')\n",
    "plt.fill_between(x, 0, pdf, where=((x >= lower_bound) & (x <= upper_bound)), alpha=0.3, label='Confidence Interval')\n",
    "plt.xlabel('Blood Pressure Before (mmHg)')\n",
    "plt.ylabel('Probability Density')\n",
    "plt.title('Probability Density Plot with Mean and Confidence Interval')\n",
    "plt.legend()\n",
    "plt.grid(True)\n",
    "plt.show()"
   ]
  },
  {
   "cell_type": "code",
   "execution_count": 18,
   "id": "f2291586",
   "metadata": {},
   "outputs": [
    {
     "name": "stdout",
     "output_type": "stream",
     "text": [
      "mean after:  128.36 std_dev:  6.8880221025232276\n",
      "Z-value: 1.959963984540054\n",
      "135.20323872640415 132.61676127359584\n"
     ]
    }
   ],
   "source": [
    "import math\n",
    "from scipy.stats import norm\n",
    "\n",
    "mean_After = df[' Blood Pressure After (mmHg)'].mean()\n",
    "std_dev_After = df[' Blood Pressure After (mmHg)'].std()\n",
    "print(\"mean after: \", mean_After, \"std_dev: \", std_dev_After)\n",
    "\n",
    "margine_of_error = std_dev_After/ math.sqrt(len(df))\n",
    "\n",
    "\n",
    "confidence_level = 0.95  # 95% confidence level (2.5% in each tail)\n",
    "alpha = 1 - confidence_level\n",
    "# Calculate the z-value for the desired confidence level\n",
    "z_value = norm.ppf(1 - ((alpha) / 2))\n",
    "\n",
    "print(\"Z-value:\", z_value)\n",
    "\n",
    "\n",
    "upper_bound_After = mean_After + (z_value*margine_of_error)\n",
    "lower_bound_After = mean_After - (z_value*margine_of_error)\n",
    "\n",
    "print(upper_bound, lower_bound)"
   ]
  },
  {
   "cell_type": "code",
   "execution_count": 19,
   "id": "bc3d5123",
   "metadata": {},
   "outputs": [
    {
     "data": {
      "image/png": "[encoded data removed]",
      "text/plain": [
       "<Figure size 576x432 with 1 Axes>"
      ]
     },
     "metadata": {
      "needs_background": "light"
     },
     "output_type": "display_data"
    }
   ],
   "source": [
    "import numpy as np\n",
    "import matplotlib.pyplot as plt\n",
    "from scipy.stats import norm\n",
    "\n",
    "# Example data\n",
    "data = df[\" Blood Pressure After (mmHg)\"]  # Column data\n",
    "mean = mean_After # Mean value\n",
    "lower_bound = lower_bound_After # Lower bound value\n",
    "upper_bound = upper_bound_After  # Upper bound value\n",
    "\n",
    "# Estimate parameters of normal distribution\n",
    "mu, std = norm.fit(data)\n",
    "\n",
    "# Generate x-values for PDF plot\n",
    "x = np.linspace(min(data), max(data), 100)\n",
    "\n",
    "# Calculate PDF values using estimated parameters\n",
    "pdf = norm.pdf(x, mu, std)\n",
    "\n",
    "# Plot the graph\n",
    "plt.figure(figsize=(8, 6))\n",
    "plt.plot(x, pdf, label='Probability Density Function')\n",
    "plt.axvline(x=mean, color='r', linestyle='--', label='Mean')\n",
    "plt.fill_between(x, 0, pdf, where=((x >= lower_bound) & (x <= upper_bound)), alpha=0.3, label='Confidence Interval')\n",
    "plt.xlabel('Blood Pressure After (mmHg)')\n",
    "plt.ylabel('Probability Density')\n",
    "plt.title('Probability Density Plot with Mean and Confidence Interval')\n",
    "plt.legend()\n",
    "plt.grid(True)\n",
    "plt.show()"
   ]
  },
  {
   "cell_type": "markdown",
   "id": "98abee4c",
   "metadata": {},
   "source": [
    "# Calculate the Mean absolute deviation and Standard deviation and interpret the results."
   ]
  },
  {
   "cell_type": "code",
   "execution_count": 20,
   "id": "61e37d99",
   "metadata": {},
   "outputs": [
    {
     "name": "stdout",
     "output_type": "stream",
     "text": [
      "standard deviation after:  6.8880221025232276\n",
      "standard deviation befor:  6.598278012275075\n"
     ]
    }
   ],
   "source": [
    "print(\"standard deviation after: \", std_dev_After)\n",
    "print(\"standard deviation befor: \", std_dev_before)"
   ]
  },
  {
   "cell_type": "code",
   "execution_count": 21,
   "id": "ebc24d05",
   "metadata": {},
   "outputs": [
    {
     "name": "stdout",
     "output_type": "stream",
     "text": [
      "Mean Absolute Deviation for BP after: 5.9\n"
     ]
    }
   ],
   "source": [
    "import numpy as np\n",
    "\n",
    "# Example dataset\n",
    "data = df[' Blood Pressure After (mmHg)']\n",
    "\n",
    "# Calculate the mean\n",
    "mean = np.mean(data)\n",
    "\n",
    "# Calculate the mean absolute deviation\n",
    "mad = np.mean(np.abs(data - mean))\n",
    "\n",
    "print(\"Mean Absolute Deviation for BP after:\", mad)"
   ]
  },
  {
   "cell_type": "code",
   "execution_count": 22,
   "id": "fce1623f",
   "metadata": {},
   "outputs": [
    {
     "name": "stdout",
     "output_type": "stream",
     "text": [
      "Mean Absolute Deviation for BP Before: 5.7118\n"
     ]
    }
   ],
   "source": [
    "import numpy as np\n",
    "\n",
    "# Example dataset\n",
    "data = df[' Blood Pressure Before (mmHg)']\n",
    "\n",
    "# Calculate the mean\n",
    "mean = np.mean(data)\n",
    "\n",
    "# Calculate the mean absolute deviation\n",
    "mad = np.mean(np.abs(data - mean))\n",
    "\n",
    "print(\"Mean Absolute Deviation for BP Before:\", mad)"
   ]
  },
  {
   "cell_type": "code",
   "execution_count": 23,
   "id": "77810b38",
   "metadata": {},
   "outputs": [
    {
     "name": "stdout",
     "output_type": "stream",
     "text": [
      "Correlation Coefficient: 0.9779485966556019\n",
      "P-value: 1.8097381433068541e-68\n",
      "The correlation is statistically significant at the 1% level.\n"
     ]
    }
   ],
   "source": [
    "from scipy.stats import pearsonr\n",
    "\n",
    "\n",
    "\n",
    "# Calculate correlation coefficient and p-value\n",
    "corr_coef, p_value = pearsonr(df[' Blood Pressure After (mmHg)'], df[' Blood Pressure Before (mmHg)'])\n",
    "\n",
    "print(\"Correlation Coefficient:\", corr_coef)\n",
    "print(\"P-value:\", p_value)\n",
    "\n",
    "# Check significance at 1% level (alpha = 0.01)\n",
    "alpha = 0.01\n",
    "if p_value < alpha:\n",
    "    print(\"The correlation is statistically significant at the 1% level.\")\n",
    "else:\n",
    "    print(\"The correlation is not statistically significant at the 1% level.\")"
   ]
  },
  {
   "cell_type": "code",
   "execution_count": null,
   "id": "3665e14f",
   "metadata": {},
   "outputs": [],
   "source": []
  }
 ],
 "metadata": {
  "kernelspec": {
   "display_name": "Python 3",
   "language": "python",
   "name": "python3"
  },
  "language_info": {
   "codemirror_mode": {
    "name": "ipython",
    "version": 3
   },
   "file_extension": ".py",
   "mimetype": "text/x-python",
   "name": "python",
   "nbconvert_exporter": "python",
   "pygments_lexer": "ipython3",
   "version": "3.8.8"
  }
 },
 "nbformat": 4,
 "nbformat_minor": 5
}
