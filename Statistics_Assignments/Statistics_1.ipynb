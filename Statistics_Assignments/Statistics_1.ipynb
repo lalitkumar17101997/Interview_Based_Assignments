{
 "cells": [
  {
   "cell_type": "markdown",
   "id": "5654a1d3",
   "metadata": {},
   "source": [
    "**Q-1.** A university wants to understand the relationship between the SAT scores of its\n",
    "applicants and their college GPA. They collect data on 500 students, including their SAT\n",
    "scores (out of 1600) and their college GPA (on a 4.0 scale). They find that the correlation\n",
    "coefficient between SAT scores and college GPA is 0.7. What does this correlation\n",
    "coefficient indicate about the relationship between SAT scores and college GPA?"
   ]
  },
  {
   "cell_type": "markdown",
   "id": "26d43e07",
   "metadata": {},
   "source": [
    "**Ans.1**\n",
    "\n",
    "As we can see that we have two features in our dataset. One is SAT scores and the other is Collage GPA. The Correlation between SAT scores and Collage GPA is 0.7.\n",
    "\n",
    "When we calculate the correlation between SAT scores and Collage GPA the possible values we can get values from -1 to 1. If value is more close to 1 we can say that we have positive correlation between SAT scores and Collage GPA. If value is more close to -1 we can say that we have negative correlation between SAT scores. If value is 0 means we don't have any correlation between SAT scores and Collage GPA.\n",
    "\n",
    "Here value for correlation coefficient is 0.7 which indicates that we have positive correlation between SAT scores and Collage GPA. which means if we have High GPA then it's more likely that we will have high SAT Scores."
   ]
  },
  {
   "cell_type": "code",
   "execution_count": null,
   "id": "ac5bc9a1",
   "metadata": {},
   "outputs": [],
   "source": []
  }
 ],
 "metadata": {
  "kernelspec": {
   "display_name": "Python 3",
   "language": "python",
   "name": "python3"
  },
  "language_info": {
   "codemirror_mode": {
    "name": "ipython",
    "version": 3
   },
   "file_extension": ".py",
   "mimetype": "text/x-python",
   "name": "python",
   "nbconvert_exporter": "python",
   "pygments_lexer": "ipython3",
   "version": "3.8.8"
  }
 },
 "nbformat": 4,
 "nbformat_minor": 5
}
