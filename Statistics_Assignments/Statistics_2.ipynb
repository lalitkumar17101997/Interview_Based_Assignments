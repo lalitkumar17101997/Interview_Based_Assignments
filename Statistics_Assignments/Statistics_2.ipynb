{
 "cells": [
  {
   "cell_type": "markdown",
   "id": "0e437718",
   "metadata": {},
   "source": [
    "**Q-2.** Consider a dataset containing the heights (in centimeters) of 1000 individuals. The\n",
    "mean height is 170 cm with a standard deviation of 10 cm. The dataset is approximately\n",
    "normally distributed, and its skewness is approximately zero. Based on this information,\n",
    "answer the following questions:\n",
    "a. What percentage of individuals in the dataset have heights between 160 cm\n",
    "and 180 cm?\n",
    "b. If we randomly select 100 individuals from the dataset, what is the probability\n",
    "that their average height is greater than 175 cm?\n",
    "c. Assuming the dataset follows a normal distribution, what is the z-score\n",
    "corresponding to a height of 185 cm?\n",
    "d. We know that 5% of the dataset has heights below a certain value. What is\n",
    "the approximate height corresponding to this threshold?\n",
    "e. Calculate the coefficient of variation (CV) for the dataset.\n",
    "f. Calculate the skewness of the dataset and interpret the result."
   ]
  },
  {
   "cell_type": "code",
   "execution_count": 4,
   "id": "715dd489",
   "metadata": {},
   "outputs": [
    {
     "name": "stdout",
     "output_type": "stream",
     "text": [
      "Z1 = -1.0\n",
      "Z2 = 1.0\n",
      "value = 68.26\n"
     ]
    }
   ],
   "source": [
    "# Ans.2\n",
    "\n",
    "x1 = 160\n",
    "x2 = 180\n",
    "μ = 170\n",
    "σ = 10\n",
    "\n",
    "z1 = (x1- μ)/σ\n",
    "print(\"Z1 =\", z1)\n",
    "z2 = (x2 - μ)/σ\n",
    "print(\"Z2 =\", z2)\n",
    "\n",
    "# We calculated the percentile for z = -1.0 above 15.87%. Using the same method, the percentile for\n",
    "# z = 1.0 is 84.13%. Now we subtract the percentiles.\n",
    "\n",
    "difference = 84.13 - 15.87\n",
    "print(\"value =\",round(difference,3))"
   ]
  },
  {
   "cell_type": "code",
   "execution_count": 5,
   "id": "f0eb6525",
   "metadata": {},
   "outputs": [
    {
     "name": "stdout",
     "output_type": "stream",
     "text": [
      "Z = 0.5\n",
      "The Z-score value is 0.5 and the area is 30.85\n"
     ]
    }
   ],
   "source": [
    "#Ans = If we randomly select 100 individuals from the dataset, what is the probability that their average height is greater than\n",
    "# 175 cm?\n",
    "\n",
    "x = 175\n",
    "μ = 170\n",
    "σ = 10\n",
    "\n",
    "z = (x - μ)/σ\n",
    "print(\"Z =\", z)\n",
    "\n",
    "# Using Z-score table find the value of area under the curve\n",
    "value = 69.15\n",
    "\n",
    "# we need to find greater than. So, we need to suntract the over all area\n",
    "area = 100 - value \n",
    "print(f'The Z-score value is {z} and the area is {round(area,3)}')"
   ]
  },
  {
   "cell_type": "code",
   "execution_count": 6,
   "id": "9bbe6157",
   "metadata": {},
   "outputs": [
    {
     "name": "stdout",
     "output_type": "stream",
     "text": [
      "Z = 1.5\n",
      "The Z-score value is 1.5 and the area is 93.32\n"
     ]
    }
   ],
   "source": [
    "#Ans = Assuming the dataset follows a normal distribution, what is the z-score corresponding to a height of 185 cm?\n",
    "\n",
    "x = 185\n",
    "μ = 170\n",
    "σ = 10\n",
    "\n",
    "z = (x - μ)/σ\n",
    "print(\"Z =\", z)\n",
    "\n",
    "# Using Z-score table find the value of area under the curve\n",
    "value = 93.32\n",
    "\n",
    "print(f'The Z-score value is {z} and the area is {round(value,3)}')"
   ]
  },
  {
   "cell_type": "code",
   "execution_count": 7,
   "id": "8406db5a",
   "metadata": {},
   "outputs": [
    {
     "data": {
      "text/plain": [
       "'- Ans - At a level of significance of 0.05, zα = − 1.96 and zα = 1.96 for a two-tailed test. Thus, our acceptance region is \\n# [− 1.96, 1.96] of the standard normal distribution.'"
      ]
     },
     "execution_count": 7,
     "metadata": {},
     "output_type": "execute_result"
    }
   ],
   "source": [
    "#Q - We know that 5% of the dataset has heights below a certain value. What is the approximate height corresponding to this \n",
    "# threshold?\n",
    "'''- Ans - At a level of significance of 0.05, zα = − 1.96 and zα = 1.96 for a two-tailed test. Thus, our acceptance region is \n",
    "# [− 1.96, 1.96] of the standard normal distribution.'''"
   ]
  },
  {
   "cell_type": "code",
   "execution_count": 8,
   "id": "383eb1a8",
   "metadata": {},
   "outputs": [
    {
     "name": "stdout",
     "output_type": "stream",
     "text": [
      "coefficient of variation = 17.0\n"
     ]
    }
   ],
   "source": [
    "# Q - Calculate the coefficient of variation (CV) for the dataset.\n",
    "#Ans : \n",
    "μ = 170\n",
    "σ = 10\n",
    "\n",
    "CV = μ / σ\n",
    "\n",
    "print(\"coefficient of variation =\",CV)"
   ]
  },
  {
   "cell_type": "code",
   "execution_count": 9,
   "id": "98342f36",
   "metadata": {},
   "outputs": [
    {
     "name": "stdout",
     "output_type": "stream",
     "text": [
      "Skewness = 1.5\n"
     ]
    }
   ],
   "source": [
    "# Q - Calculate the skewness of the dataset and interpret the result.\n",
    "# Ans - \n",
    "mean = 170\n",
    "median = 165\n",
    "standard_deviation = 10\n",
    "Skewness = 3*(mean-median)/standard_deviation\n",
    "\n",
    "print(\"Skewness =\",Skewness)"
   ]
  },
  {
   "cell_type": "code",
   "execution_count": null,
   "id": "6c61c08c",
   "metadata": {},
   "outputs": [],
   "source": []
  }
 ],
 "metadata": {
  "kernelspec": {
   "display_name": "Python 3",
   "language": "python",
   "name": "python3"
  },
  "language_info": {
   "codemirror_mode": {
    "name": "ipython",
    "version": 3
   },
   "file_extension": ".py",
   "mimetype": "text/x-python",
   "name": "python",
   "nbconvert_exporter": "python",
   "pygments_lexer": "ipython3",
   "version": "3.8.8"
  }
 },
 "nbformat": 4,
 "nbformat_minor": 5
}
