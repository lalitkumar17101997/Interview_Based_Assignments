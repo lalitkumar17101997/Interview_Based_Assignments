{
 "cells": [
  {
   "cell_type": "markdown",
   "id": "90fbfcaa",
   "metadata": {},
   "source": [
    "**Q-11.** Given the data of a feature contributing to different classes\n",
    "\n",
    "https://drive.google.com/file/d/1mCjtYHiX--mMUjicuaP2gH3k-SnFxt8Y/view?usp\n",
    "=share_\n",
    "\n",
    "a. Check whether the distribution of all the classes are the same or not.\n",
    "b. Check for the equality of variance/\n",
    "c. Which amount LDA and QDA would perform better on this data for\n",
    "classification and why.\n",
    "d. Check the equality of mean for between all the classes."
   ]
  },
  {
   "cell_type": "code",
   "execution_count": 3,
   "id": "6a500c8e",
   "metadata": {},
   "outputs": [],
   "source": [
    "# Ans.\n",
    "\n",
    "import pandas as pd\n",
    "import numpy as np"
   ]
  },
  {
   "cell_type": "code",
   "execution_count": 5,
   "id": "d1ef2222",
   "metadata": {},
   "outputs": [],
   "source": [
    "df = pd.read_csv('data2.csv',names = ['Patient_ID','blood_pressure_before','blood_pressure_after'])"
   ]
  },
  {
   "cell_type": "code",
   "execution_count": 7,
   "id": "b40765ba",
   "metadata": {},
   "outputs": [
    {
     "data": {
      "text/html": [
       "<div>\n",
       "<style scoped>\n",
       "    .dataframe tbody tr th:only-of-type {\n",
       "        vertical-align: middle;\n",
       "    }\n",
       "\n",
       "    .dataframe tbody tr th {\n",
       "        vertical-align: top;\n",
       "    }\n",
       "\n",
       "    .dataframe thead th {\n",
       "        text-align: right;\n",
       "    }\n",
       "</style>\n",
       "<table border=\"1\" class=\"dataframe\">\n",
       "  <thead>\n",
       "    <tr style=\"text-align: right;\">\n",
       "      <th></th>\n",
       "      <th>Patient_ID</th>\n",
       "      <th>blood_pressure_before</th>\n",
       "      <th>blood_pressure_after</th>\n",
       "    </tr>\n",
       "  </thead>\n",
       "  <tbody>\n",
       "    <tr>\n",
       "      <th>0</th>\n",
       "      <td>Patient ID</td>\n",
       "      <td>Blood Pressure Before (mmHg)</td>\n",
       "      <td>Blood Pressure After (mmHg)</td>\n",
       "    </tr>\n",
       "    <tr>\n",
       "      <th>1</th>\n",
       "      <td>1</td>\n",
       "      <td>130</td>\n",
       "      <td>120</td>\n",
       "    </tr>\n",
       "    <tr>\n",
       "      <th>2</th>\n",
       "      <td>2</td>\n",
       "      <td>142</td>\n",
       "      <td>135</td>\n",
       "    </tr>\n",
       "    <tr>\n",
       "      <th>3</th>\n",
       "      <td>3</td>\n",
       "      <td>120</td>\n",
       "      <td>118</td>\n",
       "    </tr>\n",
       "    <tr>\n",
       "      <th>4</th>\n",
       "      <td>4</td>\n",
       "      <td>135</td>\n",
       "      <td>127</td>\n",
       "    </tr>\n",
       "  </tbody>\n",
       "</table>\n",
       "</div>"
      ],
      "text/plain": [
       "   Patient_ID          blood_pressure_before          blood_pressure_after\n",
       "0  Patient ID   Blood Pressure Before (mmHg)   Blood Pressure After (mmHg)\n",
       "1           1                            130                           120\n",
       "2           2                            142                           135\n",
       "3           3                            120                           118\n",
       "4           4                            135                           127"
      ]
     },
     "execution_count": 7,
     "metadata": {},
     "output_type": "execute_result"
    }
   ],
   "source": [
    "df.head(5)"
   ]
  },
  {
   "cell_type": "code",
   "execution_count": 8,
   "id": "b6f7e362",
   "metadata": {},
   "outputs": [],
   "source": [
    "#drop 0th row \n",
    "df.drop(labels=0, axis=0,inplace = True)"
   ]
  },
  {
   "cell_type": "code",
   "execution_count": 9,
   "id": "5dd97b49",
   "metadata": {},
   "outputs": [],
   "source": [
    "df.blood_pressure_before = df.blood_pressure_before.astype(int)\n",
    "df.blood_pressure_after = df.blood_pressure_after.astype(int)"
   ]
  },
  {
   "cell_type": "code",
   "execution_count": 10,
   "id": "8fcec136",
   "metadata": {},
   "outputs": [
    {
     "name": "stdout",
     "output_type": "stream",
     "text": [
      "T-Statistic: 5.818552457956588\n",
      "P-Value: 2.3565868442709904e-08\n",
      "The distributions of 'before' and 'after' classes are significantly different.\n"
     ]
    }
   ],
   "source": [
    "from scipy import stats\n",
    "\n",
    "before_blood = df.blood_pressure_before\n",
    "after_blood = df.blood_pressure_after\n",
    "\n",
    "# Perform a two-sample t-test\n",
    "t_statistic, p_value = stats.ttest_ind(before_blood, after_blood)\n",
    "\n",
    "# Print the results\n",
    "print(\"T-Statistic:\", t_statistic)\n",
    "print(\"P-Value:\", p_value)\n",
    "\n",
    "# Set the significance level\n",
    "alpha = 0.05\n",
    "\n",
    "# Compare the p-value with the significance level\n",
    "if p_value < alpha:\n",
    "    print(\"The distributions of 'before' and 'after' classes are significantly different.\")\n",
    "else:\n",
    "    print(\"There is no significant difference in the distributions of 'before' and 'after' classes.\")\n",
    "    "
   ]
  },
  {
   "cell_type": "markdown",
   "id": "760674a1",
   "metadata": {},
   "source": [
    "# b). Check for the equality of variance"
   ]
  },
  {
   "cell_type": "code",
   "execution_count": 12,
   "id": "2fc4ce9d",
   "metadata": {},
   "outputs": [
    {
     "name": "stdout",
     "output_type": "stream",
     "text": [
      "Levene's test statistic: 0.1804\n",
      "Levene's test p-value: 0.6715\n",
      "Bartlett's test statistic: 0.1819\n",
      "Bartlett's test p-value: 0.6698\n",
      "There is no significant difference in the variances of 'before' and 'after' classes.\n"
     ]
    }
   ],
   "source": [
    "# Perform Levene's test for equality of variances\n",
    "levene_statistic, levene_pvalue = stats.levene(before_blood, after_blood)\n",
    "\n",
    "# Perform Bartlett's test for equality of variances\n",
    "bartlett_statistic, bartlett_pvalue = stats.bartlett(before_blood, after_blood)\n",
    "\n",
    "# Print the results of Levene's test\n",
    "print(\"Levene's test statistic:\", round(levene_statistic,4))\n",
    "print(\"Levene's test p-value:\", round(levene_pvalue,4))\n",
    "\n",
    "# Print the results of Bartlett's test\n",
    "print(\"Bartlett's test statistic:\", round(bartlett_statistic,4))\n",
    "print(\"Bartlett's test p-value:\", round(bartlett_pvalue,4))\n",
    "\n",
    "# Set the significance level\n",
    "alpha = 0.05\n",
    "\n",
    "# Compare the p-values with the significance level\n",
    "if levene_pvalue < alpha or bartlett_pvalue < alpha:\n",
    "    print(\"The variances of 'before' and 'after' classes are significantly different.\")\n",
    "else:\n",
    "    print(\"There is no significant difference in the variances of 'before' and 'after' classes.\")"
   ]
  },
  {
   "cell_type": "markdown",
   "id": "3ba58baa",
   "metadata": {},
   "source": [
    "# c). Which amount LDA and QDA would perform better on this data for classification and why."
   ]
  },
  {
   "cell_type": "markdown",
   "id": "2cda6192",
   "metadata": {},
   "source": [
    "**ANS** - Determining whether Linear Discriminant Analysis (LDA) or Quadratic Discriminant Analysis (QDA) would perform better for classification on a specific data set depends on the underlying characteristics of the data. However, I can provide some insights on the general behavior and assumptions of LDA and QDA to help you make an informed decision.\n",
    "\n",
    "Advantages of LDA:\n",
    "\n",
    "LDA tends to perform well when the classes are well-separated and when the assumption of equal covariance matrix holds. It provides interpretable results by giving importance to the discriminant features and can be used for dimensionality reduction.\n",
    "\n",
    "Disadvantages of LDA:\n",
    "\n",
    "LDA assumes linearity between predictors and class boundaries. If the relationship is highly nonlinear, LDA may not be the best choice. If the assumption of equal covariance matrix is violated, LDA performance can deteriorate."
   ]
  },
  {
   "cell_type": "markdown",
   "id": "43c1bb1a",
   "metadata": {},
   "source": [
    "# d). Check the equality of mean for between all the classes."
   ]
  },
  {
   "cell_type": "code",
   "execution_count": 14,
   "id": "18720e59",
   "metadata": {},
   "outputs": [
    {
     "name": "stdout",
     "output_type": "stream",
     "text": [
      "F-Statistic: 33.85555270599285\n",
      "P-Value: 2.3565868442707578e-08\n",
      "There is a significant difference in means between the classes.\n"
     ]
    }
   ],
   "source": [
    "# concatenate two lists of dataframe\n",
    "all_bp = np.concatenate((before_blood, after_blood))\n",
    "\n",
    "# Create a list of labels to identify the classes\n",
    "labels = ['Class 1'] * len(before_blood) + ['Class 2'] * len(after_blood)\n",
    "\n",
    "\n",
    "# Perform one-way ANOVA\n",
    "f_statistic, p_value = stats.f_oneway(before_blood, after_blood)\n",
    "\n",
    "# Print the results\n",
    "print(\"F-Statistic:\", f_statistic)\n",
    "print(\"P-Value:\", p_value)\n",
    "\n",
    "# Set the significance level\n",
    "alpha = 0.05\n",
    "\n",
    "# Compare the p-value with the significance level\n",
    "if p_value < alpha:\n",
    "    print(\"There is a significant difference in means between the classes.\")\n",
    "else:\n",
    "    print(\"There is no significant difference in means between the classes.\")"
   ]
  },
  {
   "cell_type": "code",
   "execution_count": null,
   "id": "2b6e0e3a",
   "metadata": {},
   "outputs": [],
   "source": []
  }
 ],
 "metadata": {
  "kernelspec": {
   "display_name": "Python 3",
   "language": "python",
   "name": "python3"
  },
  "language_info": {
   "codemirror_mode": {
    "name": "ipython",
    "version": 3
   },
   "file_extension": ".py",
   "mimetype": "text/x-python",
   "name": "python",
   "nbconvert_exporter": "python",
   "pygments_lexer": "ipython3",
   "version": "3.8.8"
  }
 },
 "nbformat": 4,
 "nbformat_minor": 5
}
